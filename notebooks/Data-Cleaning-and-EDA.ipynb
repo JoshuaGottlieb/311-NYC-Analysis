{
 "cells": [
  {
   "cell_type": "markdown",
   "id": "7aa695ee-9e90-4911-ac63-7e892cacbc4e",
   "metadata": {},
   "source": [
    "## Libraries"
   ]
  },
  {
   "cell_type": "code",
   "execution_count": 1,
   "id": "b40f4d05-1df5-400d-bc37-34db259b341f",
   "metadata": {},
   "outputs": [],
   "source": [
    "import numpy as np\n",
    "import pandas as pd\n",
    "import matplotlib.pyplot as plt\n",
    "import seaborn as sns\n",
    "import geopandas as gpd\n",
    "from shapely.geometry import Point"
   ]
  },
  {
   "cell_type": "markdown",
   "id": "6b5924f1-7bd5-4742-87fb-0ded31e23ae8",
   "metadata": {
    "jp-MarkdownHeadingCollapsed": true
   },
   "source": [
    "## Data Cleaning"
   ]
  },
  {
   "cell_type": "code",
   "execution_count": 2,
   "id": "20c02658-b012-4849-b1db-654c9ab1ab21",
   "metadata": {},
   "outputs": [
    {
     "data": {
      "text/html": [
       "<div>\n",
       "<style scoped>\n",
       "    .dataframe tbody tr th:only-of-type {\n",
       "        vertical-align: middle;\n",
       "    }\n",
       "\n",
       "    .dataframe tbody tr th {\n",
       "        vertical-align: top;\n",
       "    }\n",
       "\n",
       "    .dataframe thead th {\n",
       "        text-align: right;\n",
       "    }\n",
       "</style>\n",
       "<table border=\"1\" class=\"dataframe\">\n",
       "  <thead>\n",
       "    <tr style=\"text-align: right;\">\n",
       "      <th></th>\n",
       "      <th>Created Date</th>\n",
       "      <th>Closed Date</th>\n",
       "      <th>Agency Name</th>\n",
       "      <th>Complaint Type</th>\n",
       "      <th>Location Type</th>\n",
       "      <th>Incident Zip</th>\n",
       "      <th>City</th>\n",
       "      <th>Borough</th>\n",
       "      <th>Latitude</th>\n",
       "      <th>Longitude</th>\n",
       "    </tr>\n",
       "  </thead>\n",
       "  <tbody>\n",
       "    <tr>\n",
       "      <th>0</th>\n",
       "      <td>12/31/2024 11:59:38 PM</td>\n",
       "      <td>01/01/2025 12:26:35 AM</td>\n",
       "      <td>New York City Police Department</td>\n",
       "      <td>Illegal Fireworks</td>\n",
       "      <td>Street/Sidewalk</td>\n",
       "      <td>11218</td>\n",
       "      <td>NaN</td>\n",
       "      <td>BROOKLYN</td>\n",
       "      <td>40.640915</td>\n",
       "      <td>-73.973642</td>\n",
       "    </tr>\n",
       "    <tr>\n",
       "      <th>1</th>\n",
       "      <td>12/31/2024 11:59:33 PM</td>\n",
       "      <td>01/02/2025 05:08:17 PM</td>\n",
       "      <td>New York City Police Department</td>\n",
       "      <td>Noise - Residential</td>\n",
       "      <td>Residential Building/House</td>\n",
       "      <td>10466</td>\n",
       "      <td>BRONX</td>\n",
       "      <td>BRONX</td>\n",
       "      <td>40.891872</td>\n",
       "      <td>-73.860168</td>\n",
       "    </tr>\n",
       "    <tr>\n",
       "      <th>2</th>\n",
       "      <td>12/31/2024 11:59:32 PM</td>\n",
       "      <td>01/01/2025 12:18:51 AM</td>\n",
       "      <td>New York City Police Department</td>\n",
       "      <td>Noise - Residential</td>\n",
       "      <td>Residential Building/House</td>\n",
       "      <td>11221</td>\n",
       "      <td>BROOKLYN</td>\n",
       "      <td>BROOKLYN</td>\n",
       "      <td>40.688335</td>\n",
       "      <td>-73.930144</td>\n",
       "    </tr>\n",
       "    <tr>\n",
       "      <th>3</th>\n",
       "      <td>12/31/2024 11:59:31 PM</td>\n",
       "      <td>01/01/2025 09:01:36 AM</td>\n",
       "      <td>New York City Police Department</td>\n",
       "      <td>Noise - Residential</td>\n",
       "      <td>Residential Building/House</td>\n",
       "      <td>10466</td>\n",
       "      <td>BRONX</td>\n",
       "      <td>BRONX</td>\n",
       "      <td>40.891872</td>\n",
       "      <td>-73.860168</td>\n",
       "    </tr>\n",
       "    <tr>\n",
       "      <th>4</th>\n",
       "      <td>12/31/2024 11:59:21 PM</td>\n",
       "      <td>01/01/2025 12:42:47 AM</td>\n",
       "      <td>New York City Police Department</td>\n",
       "      <td>Noise - Residential</td>\n",
       "      <td>Residential Building/House</td>\n",
       "      <td>11230</td>\n",
       "      <td>BROOKLYN</td>\n",
       "      <td>BROOKLYN</td>\n",
       "      <td>40.634745</td>\n",
       "      <td>-73.964936</td>\n",
       "    </tr>\n",
       "  </tbody>\n",
       "</table>\n",
       "</div>"
      ],
      "text/plain": [
       "             Created Date             Closed Date  \\\n",
       "0  12/31/2024 11:59:38 PM  01/01/2025 12:26:35 AM   \n",
       "1  12/31/2024 11:59:33 PM  01/02/2025 05:08:17 PM   \n",
       "2  12/31/2024 11:59:32 PM  01/01/2025 12:18:51 AM   \n",
       "3  12/31/2024 11:59:31 PM  01/01/2025 09:01:36 AM   \n",
       "4  12/31/2024 11:59:21 PM  01/01/2025 12:42:47 AM   \n",
       "\n",
       "                       Agency Name       Complaint Type  \\\n",
       "0  New York City Police Department    Illegal Fireworks   \n",
       "1  New York City Police Department  Noise - Residential   \n",
       "2  New York City Police Department  Noise - Residential   \n",
       "3  New York City Police Department  Noise - Residential   \n",
       "4  New York City Police Department  Noise - Residential   \n",
       "\n",
       "                Location Type Incident Zip      City   Borough   Latitude  \\\n",
       "0             Street/Sidewalk        11218       NaN  BROOKLYN  40.640915   \n",
       "1  Residential Building/House        10466     BRONX     BRONX  40.891872   \n",
       "2  Residential Building/House        11221  BROOKLYN  BROOKLYN  40.688335   \n",
       "3  Residential Building/House        10466     BRONX     BRONX  40.891872   \n",
       "4  Residential Building/House        11230  BROOKLYN  BROOKLYN  40.634745   \n",
       "\n",
       "   Longitude  \n",
       "0 -73.973642  \n",
       "1 -73.860168  \n",
       "2 -73.930144  \n",
       "3 -73.860168  \n",
       "4 -73.964936  "
      ]
     },
     "execution_count": 2,
     "metadata": {},
     "output_type": "execute_result"
    }
   ],
   "source": [
    "# Load the data and inspect the first few rows\n",
    "df = pd.read_csv('../data/raw/311_Service_Requests_2024_2025_reduced.csv.bz2',\n",
    "                 compression = 'bz2', low_memory = False)\n",
    "df.head()"
   ]
  },
  {
   "cell_type": "code",
   "execution_count": 3,
   "id": "fafbaad6-c1bc-47a2-a188-d97401ee3d00",
   "metadata": {},
   "outputs": [],
   "source": [
    "# Normalize column names to snake case\n",
    "df.columns = ['_'.join(column.split(' ')).lower() for column in df.columns]"
   ]
  },
  {
   "cell_type": "code",
   "execution_count": 4,
   "id": "ce1eda70-25c8-45d2-93ab-184ce214f9dc",
   "metadata": {},
   "outputs": [
    {
     "name": "stdout",
     "output_type": "stream",
     "text": [
      "<class 'pandas.core.frame.DataFrame'>\n",
      "RangeIndex: 3458311 entries, 0 to 3458310\n",
      "Data columns (total 10 columns):\n",
      " #   Column          Dtype  \n",
      "---  ------          -----  \n",
      " 0   created_date    object \n",
      " 1   closed_date     object \n",
      " 2   agency_name     object \n",
      " 3   complaint_type  object \n",
      " 4   location_type   object \n",
      " 5   incident_zip    object \n",
      " 6   city            object \n",
      " 7   borough         object \n",
      " 8   latitude        float64\n",
      " 9   longitude       float64\n",
      "dtypes: float64(2), object(8)\n",
      "memory usage: 263.8+ MB\n"
     ]
    }
   ],
   "source": [
    "# Inspect column types\n",
    "df.info()"
   ]
  },
  {
   "cell_type": "code",
   "execution_count": 5,
   "id": "1bc8bfb9-069b-401a-ba22-26e2257d7c99",
   "metadata": {},
   "outputs": [
    {
     "data": {
      "text/plain": [
       "created_date           0\n",
       "closed_date       107983\n",
       "agency_name            0\n",
       "complaint_type         0\n",
       "location_type     416849\n",
       "incident_zip       34384\n",
       "city              161561\n",
       "borough                0\n",
       "latitude           53606\n",
       "longitude          53606\n",
       "dtype: int64"
      ]
     },
     "execution_count": 5,
     "metadata": {},
     "output_type": "execute_result"
    }
   ],
   "source": [
    "# Check missingness of columns\n",
    "df.isnull().sum()"
   ]
  },
  {
   "cell_type": "markdown",
   "id": "75901dbb-d020-43ed-a146-5912047c25d4",
   "metadata": {},
   "source": [
    "### Dealing with Time Columns"
   ]
  },
  {
   "cell_type": "code",
   "execution_count": 6,
   "id": "f173800f-4099-4fcb-b291-6246a08ff932",
   "metadata": {},
   "outputs": [],
   "source": [
    "# Convert date columns to datetime types\n",
    "df['created_date'] = pd.to_datetime(df['created_date'], format = \"%m/%d/%Y %I:%M:%S %p\")\n",
    "df['closed_date'] = pd.to_datetime(df['closed_date'], format = \"%m/%d/%Y %I:%M:%S %p\")\n",
    "\n",
    "# Replace NaT in closed date with last datetime of 2024\n",
    "df['closed_date'] = df['closed_date'].fillna(pd.Timestamp(\"2024-12-31 23:59:59\"))\n",
    "\n",
    "# Truncate data to only include data where the incident occurred and resolved within 2024\n",
    "df = df[(df['created_date'] >= '2024-01-01') & (df['created_date'] < '2025-01-01')]\n",
    "df = df[(df['closed_date'] >= '2024-01-01') & (df['closed_date'] < '2025-01-01')]"
   ]
  },
  {
   "cell_type": "code",
   "execution_count": 7,
   "id": "bf303fb3-67ac-4f34-836d-3ce5ea8fcad0",
   "metadata": {},
   "outputs": [],
   "source": [
    "# Create time of day category based on hour of incident\n",
    "# Extract hour\n",
    "hours = df['created_date'].dt.hour\n",
    "\n",
    "# Define bins and labels\n",
    "# 12AM-5:59AM = Night, 6AM-11:59AM = Morning, 12:00PM-5:59PM = Afternoon, 6:00PM-11:59PM = Night\n",
    "bins = [0, 6, 12, 18, 24]\n",
    "labels = ['Night', 'Morning', 'Afternoon', 'Evening']\n",
    "\n",
    "# Create a new column with time-of-day category\n",
    "df['time_of_day'] = pd.cut(hours, bins = bins, labels = labels, right = False, include_lowest = True)"
   ]
  },
  {
   "cell_type": "code",
   "execution_count": 8,
   "id": "09c6bacc-a087-4b4b-8bf9-40c9ccf201f7",
   "metadata": {},
   "outputs": [],
   "source": [
    "# Extract day of week and month from date of incident\n",
    "df['day_of_week'] = df['created_date'].dt.day_name()\n",
    "df['month'] = df['created_date'].dt.month_name()\n",
    "\n",
    "# Extract hours passed until resolution and resolution status\n",
    "# Event is assumed to be resolved if the closed date is not the maximum date in 2024\n",
    "df['resolution_time_hours'] = ((df['closed_date'] - df['created_date']).dt.total_seconds()\n",
    "                                   / 3600).round().astype(int)\n",
    "df['resolved'] = df['closed_date'] != pd.Timestamp(\"2024-12-31 23:59:59\")"
   ]
  },
  {
   "cell_type": "code",
   "execution_count": 9,
   "id": "15296864-fb4d-46bd-b6e6-80f1732ca20a",
   "metadata": {},
   "outputs": [],
   "source": [
    "# Drop original time columns, as they will no longer be used\n",
    "df = df.drop(['created_date', 'closed_date'], axis = 1)"
   ]
  },
  {
   "cell_type": "code",
   "execution_count": 10,
   "id": "10cb7dd8-bf54-4d5e-86f8-b599fcbd9699",
   "metadata": {},
   "outputs": [
    {
     "data": {
      "text/plain": [
       "agency_name                   0\n",
       "complaint_type                0\n",
       "location_type            401717\n",
       "incident_zip              33781\n",
       "city                     158600\n",
       "borough                       0\n",
       "latitude                  52836\n",
       "longitude                 52836\n",
       "time_of_day                   0\n",
       "day_of_week                   0\n",
       "month                         0\n",
       "resolution_time_hours         0\n",
       "resolved                      0\n",
       "dtype: int64"
      ]
     },
     "execution_count": 10,
     "metadata": {},
     "output_type": "execute_result"
    }
   ],
   "source": [
    "# Check missingness of data again\n",
    "df.isnull().sum()"
   ]
  },
  {
   "cell_type": "markdown",
   "id": "51100ede-eced-45ae-93c0-25752b20b12a",
   "metadata": {},
   "source": [
    "### Check Target Variable (Agency Name)"
   ]
  },
  {
   "cell_type": "code",
   "execution_count": 11,
   "id": "960b7340-2135-4c0c-996f-edbf1331cfb0",
   "metadata": {},
   "outputs": [
    {
     "data": {
      "text/plain": [
       "agency_name\n",
       "New York City Police Department                       1545786\n",
       "Department of Housing Preservation and Development     710897\n",
       "Department of Sanitation                               301513\n",
       "Department of Transportation                           202607\n",
       "Department of Environmental Protection                 189446\n",
       "Department of Parks and Recreation                     126829\n",
       "Department of Buildings                                 92369\n",
       "Department of Health and Mental Hygiene                 68162\n",
       "Department of Homeless Services                         51526\n",
       "Taxi and Limousine Commission                           32598\n",
       "Economic Development Corporation                        27491\n",
       "Department of Consumer and Worker Protection            19326\n",
       "Department of Education                                  1529\n",
       "Office of Technology and Innovation                       154\n",
       "3-1-1                                                       1\n",
       "Name: count, dtype: int64"
      ]
     },
     "execution_count": 11,
     "metadata": {},
     "output_type": "execute_result"
    }
   ],
   "source": [
    "# Only one instance of \"3-1-1\" and there are many categories with very few samples\n",
    "df['agency_name'].value_counts()"
   ]
  },
  {
   "cell_type": "code",
   "execution_count": 12,
   "id": "e61ac8a0-f9d3-4660-b11b-7b3610478e54",
   "metadata": {},
   "outputs": [
    {
     "data": {
      "text/plain": [
       "agency_name\n",
       "New York City Police Department                       0.4587\n",
       "Department of Housing Preservation and Development    0.2109\n",
       "Department of Sanitation                              0.0895\n",
       "Department of Transportation                          0.0601\n",
       "Department of Environmental Protection                0.0562\n",
       "Department of Parks and Recreation                    0.0376\n",
       "Department of Buildings                               0.0274\n",
       "Department of Health and Mental Hygiene               0.0202\n",
       "Department of Homeless Services                       0.0153\n",
       "Taxi and Limousine Commission                         0.0097\n",
       "Economic Development Corporation                      0.0082\n",
       "Department of Consumer and Worker Protection          0.0057\n",
       "Department of Education                               0.0005\n",
       "Office of Technology and Innovation                   0.0000\n",
       "3-1-1                                                 0.0000\n",
       "Name: proportion, dtype: float64"
      ]
     },
     "execution_count": 12,
     "metadata": {},
     "output_type": "execute_result"
    }
   ],
   "source": [
    "# Agencies which appear in low amounts of data will cause problems for modeling due to severe class imbalances\n",
    "df['agency_name'].value_counts(normalize = True).round(4)"
   ]
  },
  {
   "cell_type": "code",
   "execution_count": 13,
   "id": "b5e35079-0dd4-4f05-834b-db3c46bd70eb",
   "metadata": {},
   "outputs": [],
   "source": [
    "# We will wrap all of the agencies with less than 1% presence into a single \"Other\" category\n",
    "df['agency_name'] = df['agency_name'].where(\n",
    "    df['agency_name'].map(\n",
    "        df['agency_name'].value_counts(normalize = True)\n",
    "    ).gt(0.01), \"Other\"\n",
    ")"
   ]
  },
  {
   "cell_type": "code",
   "execution_count": 14,
   "id": "6b4b2b97-f256-4dd6-a5e9-2afe0a9f9849",
   "metadata": {},
   "outputs": [
    {
     "data": {
      "text/plain": [
       "agency_name\n",
       "New York City Police Department                       0.458658\n",
       "Department of Housing Preservation and Development    0.210934\n",
       "Department of Sanitation                              0.089464\n",
       "Department of Transportation                          0.060117\n",
       "Department of Environmental Protection                0.056212\n",
       "Department of Parks and Recreation                    0.037632\n",
       "Department of Buildings                               0.027407\n",
       "Other                                                 0.024063\n",
       "Department of Health and Mental Hygiene               0.020225\n",
       "Department of Homeless Services                       0.015289\n",
       "Name: proportion, dtype: float64"
      ]
     },
     "execution_count": 14,
     "metadata": {},
     "output_type": "execute_result"
    }
   ],
   "source": [
    "# Checking agency name counts again - class imbalances are present but much improved\n",
    "df['agency_name'].value_counts(normalize = True)"
   ]
  },
  {
   "cell_type": "markdown",
   "id": "2807a714-1014-4f4b-ad4a-48f23589c33e",
   "metadata": {},
   "source": [
    "### Check Complaint Type"
   ]
  },
  {
   "cell_type": "code",
   "execution_count": 15,
   "id": "9181086a-3255-4286-9f84-b232758c2893",
   "metadata": {},
   "outputs": [
    {
     "data": {
      "text/plain": [
       "array(['Noise - Commercial', 'Noise - Residential', 'Animal in a Park',\n",
       "       'Rodent', 'Traffic Signal Condition', 'UNSANITARY CONDITION',\n",
       "       'Noise - Park', 'Noise - Street/Sidewalk', 'Elevator', 'PLUMBING',\n",
       "       'WATER LEAK', 'PAINT/PLASTER', 'Illegal Parking',\n",
       "       'Non-Emergency Police Matter', 'Illegal Fireworks',\n",
       "       'Noise - House of Worship', 'Blocked Driveway', 'Plumbing',\n",
       "       'Taxi Complaint', 'Panhandling', 'Drug Activity',\n",
       "       'Street Condition', 'Street Light Condition', 'Noise - Vehicle',\n",
       "       'Water System', 'Drinking', 'For Hire Vehicle Report',\n",
       "       'Root/Sewer/Sidewalk Condition', 'Encampment', 'Traffic',\n",
       "       'Abandoned Vehicle', 'Noise', 'Animal-Abuse', 'Sewer',\n",
       "       'Noise - Helicopter', 'Indoor Sewage', 'Bike/Roller/Skate Chronic',\n",
       "       'Maintenance or Facility', 'ELECTRIC', 'APPLIANCE', 'DOOR/WINDOW',\n",
       "       'GENERAL', 'Vendor Enforcement', 'Urinating in Public',\n",
       "       'Unsanitary Animal Pvt Property', 'Real Time Enforcement',\n",
       "       'Damaged Tree', 'For Hire Vehicle Complaint', 'FLOORING/STAIRS',\n",
       "       'Dirty Condition', 'HEAT/HOT WATER', 'Derelict Vehicles',\n",
       "       'Air Quality', 'Dead/Dying Tree', 'Residential Disposal Complaint',\n",
       "       'Hazardous Materials', 'Commercial Disposal Complaint',\n",
       "       'Construction Lead Dust', 'Homeless Person Assistance',\n",
       "       'Violation of Park Rules', 'Bridge Condition',\n",
       "       'Water Conservation', 'General Construction/Plumbing',\n",
       "       'Overgrown Tree/Branches', 'Lead', 'Graffiti', 'Illegal Dumping',\n",
       "       'Obstruction', 'Sidewalk Condition', 'Lost Property',\n",
       "       'Curb Condition', 'Food Poisoning', 'Building/Use',\n",
       "       'New Tree Request', 'Missed Collection',\n",
       "       'Street Sweeping Complaint', 'Unleashed Dog', 'Water Quality',\n",
       "       'Indoor Air Quality', 'Dead Animal', 'Wood Pile Remaining',\n",
       "       'Boilers', 'Broken Parking Meter',\n",
       "       'Investigations and Discipline (IAD)', 'Street Sign - Damaged',\n",
       "       'Outdoor Dining', 'Emergency Response Team (ERT)',\n",
       "       'Sanitation Worker or Vehicle Complaint', 'Asbestos',\n",
       "       'Highway Condition', 'Abandoned Bike', 'Consumer Complaint',\n",
       "       'OUTSIDE BUILDING', 'Pet Shop', 'Illegal Animal Sold',\n",
       "       'Street Sign - Dangling', 'Unsanitary Pigeon Condition',\n",
       "       'Drinking Water', 'SAFETY', 'Illegal Tree Damage', 'Taxi Report',\n",
       "       'Litter Basket Request', 'Uprooted Stump', 'BEST/Site Safety',\n",
       "       'Bus Stop Shelter Placement',\n",
       "       'Special Projects Inspection Team (SPIT)',\n",
       "       'Unsanitary Animal Facility', 'ELEVATOR', 'Scaffold Safety',\n",
       "       'Tobacco or Non-Tobacco Sale', 'Litter Basket Complaint',\n",
       "       'Mobile Food Vendor', 'Street Sign - Missing', 'Ferry Inquiry',\n",
       "       'Incorrect Data', 'Borough Office', 'Illegal Posting',\n",
       "       'Highway Sign - Damaged', 'Dumpster Complaint', 'Found Property',\n",
       "       'Mold', 'Illegal Animal Kept as Pet', 'Posting Advertisement',\n",
       "       'Snow or Ice', 'Animal Facility - No Permit', 'Industrial Waste',\n",
       "       'Plant', 'Electrical', 'E-Scooter', 'School Maintenance',\n",
       "       'Lot Condition', 'Harboring Bees/Wasps', 'Cooling Tower',\n",
       "       'Bus Stop Shelter Complaint', 'Disorderly Youth',\n",
       "       'Ferry Complaint', 'Building Drinking Water Tank',\n",
       "       'Green Taxi Report', 'Green Taxi Complaint', 'Bike Rack',\n",
       "       'AHV Inspection Unit', 'Cranes and Derricks',\n",
       "       'Recycling Basket Complaint', 'Bench',\n",
       "       'Municipal Parking Facility', 'LinkNYC', 'Public Toilet',\n",
       "       'Taxi Compliment', 'Beach/Pool/Sauna Complaint',\n",
       "       'Highway Sign - Dangling', 'Highway Sign - Missing', 'Tanning',\n",
       "       'DEP Sidewalk Condition', 'Special Natural Area District (SNAD)',\n",
       "       'Radioactive Material', 'Wayfinding', 'FHV Licensee Complaint',\n",
       "       'Institution Disposal Complaint', 'Peeling Paint',\n",
       "       'Dept of Investigations', 'Dispatched Taxi Complaint',\n",
       "       'DEP Street Condition', 'Smoking', \"Building Marshal's Office\",\n",
       "       'Transfer Station Complaint', 'Squeegee', 'Standing Water',\n",
       "       'Taxi Licensee Complaint', 'Mosquitoes', 'Special Operations',\n",
       "       'Oil or Gas Spill', 'Adopt-A-Basket', 'Food Establishment',\n",
       "       'Public Payphone Complaint', 'DEP Highway Condition',\n",
       "       'Leaning Bar', 'Lifeguard', 'Stalled Sites', 'Building Condition',\n",
       "       'Bike Rack Condition', 'Building Marshals office',\n",
       "       'Executive Inspections', 'X-Ray Machine/Equipment',\n",
       "       'Sustainability Enforcement', 'Retailer Complaint',\n",
       "       'Non-Residential Heat', 'Construction Safety Enforcement',\n",
       "       'Tunnel Condition', 'Seasonal Collection', 'DSNY Internal', 'SNW'],\n",
       "      dtype=object)"
      ]
     },
     "execution_count": 15,
     "metadata": {},
     "output_type": "execute_result"
    }
   ],
   "source": [
    "# There are many different complaint types, so it would be best to group these into categories of some sort\n",
    "df['complaint_type'].unique()"
   ]
  },
  {
   "cell_type": "code",
   "execution_count": 16,
   "id": "935a6f44-5142-468b-b202-4391f4888731",
   "metadata": {},
   "outputs": [],
   "source": [
    "# Creating a mapping for 12 different categories\n",
    "# 1: Noise Complaints, 2: Animal-Relating Complaints, 3: Traffic & Parking\n",
    "# 4: Sanitation & Maintenance, 5: Building & Facility Complaints, 6: Public Safety & Legal Issues\n",
    "# 7. Environmental Complaints, 8: Property & Land Use, 9: Public Infrastructure & Transportation\n",
    "# 10. Health & Food-Related, 11: Comunity Services & Outreach, 12: Other\n",
    "\n",
    "# Mapping dictionary\n",
    "complaint_mapping = {\n",
    "    'Noise Complaints': [\n",
    "        'Noise - Commercial', 'Noise - Residential', 'Noise - Park', 'Noise - Street/Sidewalk',\n",
    "        'Noise - Vehicle', 'Noise - House of Worship', 'Noise - Helicopter', 'Noise'\n",
    "    ],\n",
    "    'Animal-Related Complaints': [\n",
    "        'Animal in a Park', 'Rodent', 'Animal-Abuse', 'Unsanitary Animal Pvt Property', \n",
    "        'Unleashed Dog', 'Dead Animal', 'Animal Facility - No Permit', \n",
    "        'Unsanitary Animal Facility', 'Illegal Animal Sold', 'Illegal Animal Kept as Pet',\n",
    "        'Harboring Bees/Wasps', 'Pet Shop', 'Unsanitary Pigeon Condition', 'Illegal Tree Damage'\n",
    "    ],\n",
    "    'Traffic & Parking': [\n",
    "        'Bike/Roller/Skate Chronic', 'Derelict Vehicles', 'For Hire Vehicle Complaint',\n",
    "        'Bike Rack Condition', 'AHV Inspection Unit', 'Stalled Sites',\n",
    "        'Traffic Signal Condition', 'Illegal Parking', 'Blocked Driveway',\n",
    "        'Taxi Complaint', 'For Hire Vehicle Report', 'Abandoned Vehicle', 'Street Condition',\n",
    "        'Street Light Condition', 'Traffic', 'Taxi Compliment', 'Broken Parking Meter',\n",
    "        'Street Sweeping Complaint', 'Street Sign - Damaged', 'Street Sign - Dangling',\n",
    "        'Street Sign - Missing', 'Bus Stop Shelter Placement', 'Bus Stop Shelter Complaint',\n",
    "        'Municipal Parking Facility', 'Highway Condition', 'Highway Sign - Damaged',\n",
    "        'Highway Sign - Dangling', 'Highway Sign - Missing', 'Taxi Report', 'Green Taxi Report',\n",
    "        'Green Taxi Complaint', 'Taxi Licensee Complaint', 'Dispatched Taxi Complaint',\n",
    "        'FHV Licensee Complaint', 'Abandoned Bike', 'E-Scooter', 'Bike Rack', 'Tunnel Condition'\n",
    "    ],\n",
    "    'Building & Facility Complaints': [\n",
    "        'UNSANITARY CONDITION', 'Sewer', 'Dirty Condition', 'Wood Pile Remaining', 'Mold',\n",
    "        'OUTSIDE BUILDING', 'Peeling Paint', 'Non-Residential Heat', 'Elevator', 'Plumbing',\n",
    "        'WATER LEAK', 'Boilers', 'APPLIANCE', 'DOOR/WINDOW', 'FLOORING/STAIRS', 'HEAT/HOT WATER',\n",
    "        'Building/Use', 'Outdoor Dining', 'Building Condition', 'Maintenance or Facility',\n",
    "        'Indoor Air Quality', 'Building Drinking Water Tank', 'Construction Safety Enforcement',\n",
    "        'School Maintenance', 'Cooling Tower', 'Electrical', 'ELECTRIC', 'Cranes and Derricks',\n",
    "        'Scaffold Safety', 'General Construction/Plumbing', 'Construction Lead Dust', 'Snow or Ice',\n",
    "        'ELEVATOR', 'PLUMBING', 'PAINT/PLASTER', 'Indoor Sewage'\n",
    "    ],\n",
    "    'Public Safety & Legal Issues': [\n",
    "        'Real Time Enforcement', 'Investigations and Discipline (IAD)',\n",
    "        'Emergency Response Team (ERT)', 'Sanitation Worker or Vehicle Complaint',\n",
    "        'Special Projects Inspection Team (SPIT)', 'Ferry Complaint', 'Lifeguard',\n",
    "        'Building Marshals office', 'X-Ray Machine/Equipment', 'Non-Emergency Police Matter',\n",
    "        'Drug Activity', 'Panhandling', 'Illegal Fireworks', 'Violation of Park Rules',\n",
    "        'Encampment', 'Obstruction', 'Disorderly Youth', 'Smoking', 'Squeegee',\n",
    "        'Public Payphone Complaint', 'Illegal Posting', 'Posting Advertisement',\n",
    "        'SAFETY', 'Urinating in Public', 'Vendor Enforcement', 'Retailer Complaint',\n",
    "        'Tobacco or Non-Tobacco Sale', 'BEST/Site Safety', 'Transfer Station Complaint',\n",
    "        'Illegal Dumping', \"Building Marshal's Office\"\n",
    "    ],\n",
    "    'Environmental Complaints': [\n",
    "        'Root/Sewer/Sidewalk Condition', 'Damaged Tree', 'Dead/Dying Tree',\n",
    "        'Overgrown Tree/Branches', 'Sidewalk Condition', 'Curb Condition',\n",
    "        'New Tree Request', 'Uprooted Stump', 'Lead', 'Bridge Condition',\n",
    "        'Recycling Basket Complaint', 'Special Natural Area District (SNAD)',\n",
    "        'Lot Condition', 'Air Quality', 'Water Conservation', 'Hazardous Materials',\n",
    "        'Radioactive Material', 'Asbestos', 'Oil or Gas Spill', 'Mosquitoes',\n",
    "        'Plant', 'DEP Highway Condition', 'Water System', 'Standing Water',\n",
    "        'DEP Street Condition', 'DEP Sidewalk Condition', 'Industrial Waste'\n",
    "    ],\n",
    "    'Health & Food-Related': [\n",
    "        'Food Poisoning', 'Food Establishment', 'Drinking', 'Drinking Water', \n",
    "        'Consumer Complaint', 'Building Drinking Water Tank', 'Mobile Food Vendor',\n",
    "        'Dumpster Complaint', 'Water Quality', 'Institution Disposal Complaint',\n",
    "        'Residential Disposal Complaint', 'Commercial Disposal Complaint'\n",
    "    ],\n",
    "    'Community Services & Outreach': [\n",
    "        'Litter Basket Request', 'Litter Basket Complaint', 'Adopt-A-Basket', 'Bench',\n",
    "        'Wayfinding', 'Seasonal Collection', 'DSNY Internal', 'SNW', 'Homeless Person Assistance',\n",
    "        'Lost Property', 'Found Property', 'Consumer Complaint', 'Borough Office',\n",
    "        'Special Operations', 'Executive Inspections', 'Sustainability Enforcement',\n",
    "        'Dept of Investigations', 'Public Toilet', 'LinkNYC', 'Ferry Inquiry', 'Beach/Pool/Sauna Complaint'\n",
    "    ]\n",
    "}\n",
    "\n",
    "# Invert the dictionary for mapping\n",
    "inverse_mapping = {}\n",
    "for category, types in complaint_mapping.items():\n",
    "    for complaint in types:\n",
    "        inverse_mapping[complaint] = category\n",
    "\n",
    "# Map the complaint_type to categories, mapping unspecified complaint types to \"Other\"\n",
    "df['complaint_type'] = df['complaint_type'].map(inverse_mapping).fillna('Other')"
   ]
  },
  {
   "cell_type": "code",
   "execution_count": 17,
   "id": "27a00417-eddb-4a3c-b7da-00b423bb4bf6",
   "metadata": {},
   "outputs": [
    {
     "data": {
      "text/plain": [
       "complaint_type\n",
       "Traffic & Parking                 0.299834\n",
       "Building & Facility Complaints    0.261038\n",
       "Noise Complaints                  0.222360\n",
       "Public Safety & Legal Issues      0.071356\n",
       "Environmental Complaints          0.068017\n",
       "Other                             0.024805\n",
       "Animal-Related Complaints         0.022657\n",
       "Community Services & Outreach     0.021199\n",
       "Health & Food-Related             0.008735\n",
       "Name: proportion, dtype: float64"
      ]
     },
     "execution_count": 17,
     "metadata": {},
     "output_type": "execute_result"
    }
   ],
   "source": [
    "# Checking the counts for the new categories, these categories are more reasonable\n",
    "df['complaint_type'].value_counts(normalize = True)"
   ]
  },
  {
   "cell_type": "markdown",
   "id": "72d19097-efce-4a0a-815c-b3d9b23bf3d1",
   "metadata": {},
   "source": [
    "### Location Type"
   ]
  },
  {
   "cell_type": "code",
   "execution_count": 18,
   "id": "9df9888d-0ad0-4c0d-9dd8-4f04857d79a8",
   "metadata": {},
   "outputs": [
    {
     "data": {
      "text/plain": [
       "401717"
      ]
     },
     "execution_count": 18,
     "metadata": {},
     "output_type": "execute_result"
    }
   ],
   "source": [
    "# There are missing values in this column\n",
    "df['location_type'].isnull().sum()"
   ]
  },
  {
   "cell_type": "code",
   "execution_count": 19,
   "id": "7667360a-42ba-4663-9d3e-cca789764dbd",
   "metadata": {},
   "outputs": [
    {
     "data": {
      "text/plain": [
       "array(['Store/Commercial', 'Residential Building/House', 'Park',\n",
       "       'Commercial Building', nan, 'Club/Bar/Restaurant',\n",
       "       'RESIDENTIAL BUILDING', 'Park/Playground', 'Street/Sidewalk',\n",
       "       'House of Worship', 'Street', 'Subway', 'Other', 'Hallway',\n",
       "       'Lobby', 'Highway', 'Above Address', '1-2 Family Dwelling',\n",
       "       'Common Area', '3+ Family Apartment Building',\n",
       "       'Other (Explain Below)', '3+ Family Apt. Building', 'Sidewalk',\n",
       "       'Bridge', '3+ Family Mixed Use Building', 'Taxi', 'Curb',\n",
       "       'Restaurant/Bar/Deli/Bakery', 'Public/Unfenced Area',\n",
       "       'Street/Curbside', 'Comercial', 'Yard', 'Alley', 'Public Garden',\n",
       "       'Construction Site', 'Intersection', 'Gutter', 'Business',\n",
       "       'Residence', 'Vacant Lot', 'House and Store', 'Food Cart Vendor',\n",
       "       'Traffic Island or Median', 'Residential Building', 'Mixed Use',\n",
       "       'Residential', 'Bus Stop Shelter', 'Kennel/Animal Shelter',\n",
       "       '1-2 Family Mixed Use Building', 'Retail Store',\n",
       "       'Mobile Food Vendor', 'Ferry', 'Food Establishment or Vendor',\n",
       "       'Restaurant', 'Stairwell', '1-3 Family Dwelling',\n",
       "       'Petting Zoo/Animal Exhibit', 'Catering Service', 'Groomer',\n",
       "       'Private Property', 'Street Vendor', 'School', 'Lot',\n",
       "       'Private Residence', 'Bike Lane', '1-3 Family Mixed Use Building',\n",
       "       'Roof', 'Terminal', 'Overpass', 'Building Entrance',\n",
       "       'School/Pre-School', 'Parking Lot/Garage', 'Inside',\n",
       "       'Roadway Tunnel', 'Subway Station', 'Vacant Building',\n",
       "       'Government Building', 'Vehicle Lane', 'Commercial', 'Crosswalk',\n",
       "       'Speed Reducer', 'Catch Basin/Sewer', 'Day Care/Nursery',\n",
       "       'Green Cart Vendor', 'Correctional Facility - City', 'Garage',\n",
       "       'Mixed Use Building', 'Pool', 'School Safety Zone', 'Parking Lot',\n",
       "       'Beach', 'Tanning Salon', 'Steam Room', 'Non-Profit',\n",
       "       'Loft Building - Common Areas', 'Office Building', 'Hospital',\n",
       "       'Ground', 'Pier', 'Public Stairs', 'Residential Property',\n",
       "       'Cafeteria - College/University', 'Building Condition',\n",
       "       'Public Park/Garden', 'Store', 'Single Room Occupancy (SRO)',\n",
       "       'Loft Residence', 'Vacant Lot/Property', 'Spa Pool',\n",
       "       'Public Garden/Park', 'Street Area', 'Commercial Property',\n",
       "       'Abandoned Building', 'Street Fair Vendor', 'Horse Stable',\n",
       "       'Tire Shop', 'Wooded Area', 'Swamp or Pond', 'Building', 'Sauna',\n",
       "       'Senior Center', 'Cemetery', 'Public Plaza',\n",
       "       'Cafeteria - Private School', \"Doctor's Office\",\n",
       "       'Building (Non-Residential)', 'Airport or Train/Bus Station',\n",
       "       'Cafeteria - Private', 'Cafeteria - Public School', 'Nursing Home',\n",
       "       'School - K-12 Public', 'Correctional Facility - State',\n",
       "       'School - K-12 Private', 'Other (explain in Complaint Details)',\n",
       "       'Soup Kitchen', 'Homeless Shelter', 'Sports Arena',\n",
       "       'Medical Facility', 'Theater', 'Permanent Food Stand',\n",
       "       'School - College/University'], dtype=object)"
      ]
     },
     "execution_count": 19,
     "metadata": {},
     "output_type": "execute_result"
    }
   ],
   "source": [
    "# Like with the complaint type, there are a lot of unique location types\n",
    "# It would be helpful to put these into categories\n",
    "df['location_type'].unique()"
   ]
  },
  {
   "cell_type": "code",
   "execution_count": 20,
   "id": "0ae212e9-c007-4fba-ab4c-515f5f43e31e",
   "metadata": {},
   "outputs": [],
   "source": [
    "# Creating a mapping for 6 different categories\n",
    "# 1: Street, 2: Residential, 3: Commercial,\n",
    "# 4: Restaurant, 5: Outdoor, 6: Other\n",
    "\n",
    "# Mapping dictionary\n",
    "location_mapping = {\n",
    "    \"Street\": [\n",
    "        'Street/Sidewalk', 'Street', 'Sidewalk', 'Highway', 'Intersection',\n",
    "        'Alley', 'Curb', 'Street/Curbside', 'Taxi', 'Bus Stop Shelter',\n",
    "        'Bike Lane', 'Vehicle Lane', 'Crosswalk', 'Speed Reducer',\n",
    "        'Catch Basin/Sewer', 'Roadway Tunnel', 'Overpass', 'Public Stairs',\n",
    "        'Street Area', 'Bridge', 'Gutter', 'Subway', 'Subway Station',\n",
    "        'Street Fair Vendor'\n",
    "    ],\n",
    "    \"Residential\": [\n",
    "        'Residential Building/House', 'RESIDENTIAL BUILDING', '1-2 Family Dwelling',\n",
    "        '3+ Family Apartment Building', '3+ Family Apt. Building',\n",
    "        '3+ Family Mixed Use Building', 'House and Store', 'Residence',\n",
    "        'Residential Building', 'Residential', 'Private Residence',\n",
    "        '1-3 Family Dwelling', '1-3 Family Mixed Use Building',\n",
    "        '1-2 Family Mixed Use Building', 'Residential Property', 'Loft Residence',\n",
    "        'Single Room Occupancy (SRO)', 'Nursing Home'\n",
    "    ],\n",
    "    \"Commercial\": [\n",
    "        'Store/Commercial', 'Commercial Building', 'Comercial', 'Business',\n",
    "        'Retail Store', 'Commercial', 'Commercial Property', 'Store',\n",
    "        'Tire Shop', 'Groomer', 'Tanning Salon', 'Steam Room', 'Spa Pool',\n",
    "        \"Doctor's Office\", 'Building (Non-Residential)', 'Office Building',\n",
    "        'Medical Facility', 'Mixed Use Building', 'Sports Arena', 'Theater'\n",
    "    ],\n",
    "    \"Restaurant\": [\n",
    "        'Club/Bar/Restaurant', 'Restaurant/Bar/Deli/Bakery', 'Food Cart Vendor',\n",
    "        'Mobile Food Vendor', 'Food Establishment or Vendor', 'Restaurant',\n",
    "        'Catering Service', 'Green Cart Vendor', 'Street Vendor',\n",
    "        'Permanent Food Stand', 'Soup Kitchen', 'Cafeteria - Private',\n",
    "        'Cafeteria - Private School', 'Cafeteria - Public School', 'Cafeteria - College/University'\n",
    "    ],\n",
    "    \"Outdoor\": [\n",
    "        'Park', 'Park/Playground', 'Public/Unfenced Area', 'Yard',\n",
    "        'Construction Site', 'Vacant Lot', 'Lot', 'Roof', 'Beach',\n",
    "        'Ground', 'Pier', 'Wooded Area', 'Swamp or Pond', 'Horse Stable',\n",
    "        'Petting Zoo/Animal Exhibit', 'Pool', 'Vacant Lot/Property', 'Parking Lot/Garage',\n",
    "        'Parking Lot', 'Garage', 'Terminal', 'Ferry', 'Airport or Train/Bus Station',\n",
    "        'Public Garden', 'Public Park/Garden', 'Public Garden/Park', 'Public Plaza',\n",
    "        'Traffic Island or Median'\n",
    "    ],\n",
    "    \"Other\": [\n",
    "        None, 'Other', 'House of Worship', 'Hallway', 'Lobby', 'Above Address',\n",
    "        'Common Area', 'Other (Explain Below)', 'Kennel/Animal Shelter',\n",
    "        'Inside', 'Vacant Building', 'Private Property', 'Abandoned Building',\n",
    "        'Building Entrance', 'Building Condition', 'Building', 'Non-Profit',\n",
    "        'Loft Building - Common Areas', 'Hospital', 'Cemetery', 'Senior Center',\n",
    "        'Homeless Shelter', 'Sauna', 'Stairwell', 'Correctional Facility - City',\n",
    "        'Correctional Facility - State', 'Mixed Use', 'Other (explain in Complaint Details)',\n",
    "        'Government Building', 'School', 'School/Pre-School', 'Day Care/Nursery', 'School Safety Zone',\n",
    "        'School - K-12 Public', 'School - K-12 Private', 'School - College/University'\n",
    "    ]\n",
    "}\n",
    "\n",
    "# Invert the dictionary for mapping\n",
    "inverse_mapping = {}\n",
    "for category, types in location_mapping.items():\n",
    "    for complaint in types:\n",
    "        inverse_mapping[complaint] = category\n",
    "\n",
    "# Map the location_type to categories, mapping unspecified complaint types to \"Other\"\n",
    "df['location_type'] = df['location_type'].map(inverse_mapping).fillna('Other')"
   ]
  },
  {
   "cell_type": "code",
   "execution_count": 21,
   "id": "9a76ce28-6688-46cb-90fc-3303aa59c112",
   "metadata": {},
   "outputs": [
    {
     "data": {
      "text/plain": [
       "location_type\n",
       "Street         0.463156\n",
       "Residential    0.347639\n",
       "Other          0.134447\n",
       "Commercial     0.024549\n",
       "Outdoor        0.018521\n",
       "Restaurant     0.011688\n",
       "Name: proportion, dtype: float64"
      ]
     },
     "execution_count": 21,
     "metadata": {},
     "output_type": "execute_result"
    }
   ],
   "source": [
    "# Checking the counts for the new categories, these categories are more reasonable\n",
    "df['location_type'].value_counts(normalize = True)"
   ]
  },
  {
   "cell_type": "markdown",
   "id": "d30d7a67-21b2-4b30-b443-051434f58847",
   "metadata": {},
   "source": [
    "### Location Data (City, Borough, Latitude/Longitude, and ZIP Code)"
   ]
  },
  {
   "cell_type": "code",
   "execution_count": 22,
   "id": "70e3dd1d-5d7a-42c1-a4f5-b0b5f879469d",
   "metadata": {},
   "outputs": [
    {
     "data": {
      "text/plain": [
       "array(['NEW YORK', 'STATEN ISLAND', 'BRONX', 'QUEENS', 'BROOKLYN',\n",
       "       'OAKLAND GARDENS', nan, 'CORONA', 'JAMAICA', 'ASTORIA',\n",
       "       'FOREST HILLS', 'FAR ROCKAWAY', 'ELMHURST', 'JACKSON HEIGHTS',\n",
       "       'OZONE PARK', 'RIDGEWOOD', 'REGO PARK', 'COLLEGE POINT',\n",
       "       'SOUTH RICHMOND HILL', 'EAST ELMHURST', 'MANHATTAN', 'WOODHAVEN',\n",
       "       'SOUTH OZONE PARK', 'MASPETH', 'WOODSIDE', 'FLUSHING',\n",
       "       'LITTLE NECK', 'SPRINGFIELD GARDENS', 'KEW GARDENS', 'WHITESTONE',\n",
       "       'MIDDLE VILLAGE', 'BELLEROSE', 'FLORAL PARK', 'LONG ISLAND CITY',\n",
       "       'ROSEDALE', 'FRESH MEADOWS', 'BAYSIDE', 'QUEENS VILLAGE',\n",
       "       'HOWARD BEACH', 'SAINT ALBANS', 'SUNNYSIDE', 'RICHMOND HILL',\n",
       "       'HOLLIS', 'ARVERNE', 'CAMBRIA HEIGHTS', 'GLEN OAKS',\n",
       "       'NEW HYDE PARK', 'Nesconset', 'bronx', 'Staten Island', 'KATY',\n",
       "       'Elmhurst', 'Manhattan', 'brooklyn', 'BREEZY POINT', 'Bentonville',\n",
       "       'Brooklyn', 'New York', 'LAGUARDIA AIRPORT', 'Yonkers',\n",
       "       'West Hempstead', 'La Grange', 'hicksville', 'Highland ny',\n",
       "       'Carroliton', 'Glendale queens', 'Deer Park', 'ROSLYN HEIGHTS',\n",
       "       'Roseland', 'Norwood', 'New Hyde', 'MINNEAPOLIS', 'Newport Beach',\n",
       "       'Rye', 'PELHAM', 'Hauppauge', 'Plainfield', 'Aresley', 'Draper',\n",
       "       'BAYONNE', 'elm fords', 'South Hempstead', 'Goodlettsville',\n",
       "       'Franklin Square', 'Scranton', 'Bayshore', 'Queens', 'wayne',\n",
       "       'pittsburgh', 'Queens Village', 'San Diego', 'Greensville',\n",
       "       'Valley Stream', 'Bronx', 'Jackson', 'Flushing',\n",
       "       'Springfield Boulevard', 'Hurleyville', 'queens', 'Huntington',\n",
       "       'Westbury', 'Clifton Park', 'West Bury', 'Long Beach',\n",
       "       'cedar falls', 'Moline', 'Great Neck', 'South Ozone Park', 'NY',\n",
       "       'Islandia', 'Las Vegas', 'Far Rockaway', 'Buffalo', 'BUFFALO',\n",
       "       'Upper Darby', 'Garden City', 'Franklyn Square', 'Ridgefield park',\n",
       "       'Bohemia', 'Harrisburg', 'glenn cove', 'Indianapolis',\n",
       "       'lake dallas', 'Charlotte', 'Tarzana', 'Memphis',\n",
       "       'Franklyn square', 'Hamilton Township', 'Katy', 'Purchase',\n",
       "       'fort washington', 'Melville', 'Minneapolis', 'Hoover', 'Chester',\n",
       "       'LEHI', 'Salt Lake City', 'Long Island City', 'City of industry',\n",
       "       'New City', 'Floral Park',\n",
       "       '33rd Street between Astoria Blvd North and Astoria Blvd South',\n",
       "       'New Hyde Park', 'Louisville', 'tampa', 'duyea', 'Short Hills',\n",
       "       'Syosset', 'Orem', 'Mount Vernon', 'harrisburg', 'Saint James',\n",
       "       'MOUNT LAUREL', 'Earth city', 'Holladay', 'Tampa', 'FREEPORT',\n",
       "       'Hollywood', 'millville', 'Little Neck', 'huntington', 'Franklin',\n",
       "       'Suffolk', 'Elmont', 'CONSHOHOCKEN', 'SYOSSET', 'Hewlett',\n",
       "       'Vestal', 'Deerborn Heights', 'Coon Rapids', 'BETHPAGE', 'Webster',\n",
       "       'SAN DIEGO', 'scotts dale', 'College Point', 'Copiague',\n",
       "       'Williamsville', 'Braintree', 'Minnetonka', 'monroe',\n",
       "       'White Plains', 'Fort Washington', 'North Babylon', 'San Jose',\n",
       "       'long island', 'BAYVILLE', 'HICKSVILLE', 'Arlington',\n",
       "       'Rochelle Park', 'Oceanside', 'Framing Dale', 'Nutley', 'Inwood',\n",
       "       'farmindvile', 'Portchester', 'Freehold', 'Roosevelt', 'Sartell',\n",
       "       'Union', 'Fort Lauderdale', 'Farmingdale', 'pittsburg',\n",
       "       'NEW ROCHELLE', 'Whitestone', 'lanCASTER', 'JAMIACA QUEENS',\n",
       "       'Garden City Park', 'Ft washinton', 'Sugarland', 'Bay Shore',\n",
       "       'SARTELL', 'Unknown', 'farmingdale', 'Jericho', 'Boca Raton',\n",
       "       'dobbs ferry', 'Commack', 'Hollanday', 'nordwood', 'Islip',\n",
       "       'Mellville'], dtype=object)"
      ]
     },
     "execution_count": 22,
     "metadata": {},
     "output_type": "execute_result"
    }
   ],
   "source": [
    "# There are a lot of values that need to be cleaned up, including null values\n",
    "df['city'].unique()"
   ]
  },
  {
   "cell_type": "code",
   "execution_count": 23,
   "id": "57e8911b-9ad3-4f03-b9e3-ac1008ca1b2b",
   "metadata": {},
   "outputs": [
    {
     "name": "stdout",
     "output_type": "stream",
     "text": [
      "Number of dropped rows: 1613\n"
     ]
    }
   ],
   "source": [
    "# Some of these locations are not in NYC, so let's preserve only locations in NYC and unknowns\n",
    "nyc_areas = [\n",
    "    'arverne', 'astoria', 'bayside', 'bellerose', 'breezy point', 'bronx',\n",
    "    'brooklyn', 'cambria heights', 'college point', 'corona', 'east elmhurst',\n",
    "    'elmhurst', 'far rockaway', 'flushing', 'forest hills', 'fresh meadows',\n",
    "    'glen oaks', 'glendale queens', 'hollis', 'howard beach', 'jackson heights',\n",
    "    'jamaica', 'jamaica queens', 'kew gardens', 'laguardia airport',\n",
    "    'little neck', 'long island city', 'manhattan', 'maspeth', 'middle village',\n",
    "    'new york', 'oakland gardens', 'ozone park', 'queens', 'queens village',\n",
    "    'rego park', 'ridgewood', 'richmond hill', 'rosedale', 'saint albans',\n",
    "    'south ozone park', 'south richmond hill', 'springfield boulevard',\n",
    "    'springfield gardens', 'staten island', 'sunnyside', 'woodhaven', 'woodside',\n",
    "    'whitestone', 'unknown'\n",
    "]\n",
    "\n",
    "# Convert city names to lowercase to normalize\n",
    "df['city'] = df['city'].str.lower()\n",
    "\n",
    "# Print number of dropped rows\n",
    "print(f'Number of dropped rows: {len(df[(~df[\"city\"].isin(nyc_areas)) & (df[\"city\"].notna())])}')\n",
    "\n",
    "# Drop all non-null rows outside of NYC\n",
    "df = df[(df['city'].isin(nyc_areas)) | (df['city'].isna())]"
   ]
  },
  {
   "cell_type": "code",
   "execution_count": 24,
   "id": "dfd5fe80-6ebe-4016-956d-1da91a126e2e",
   "metadata": {},
   "outputs": [
    {
     "data": {
      "text/html": [
       "<div>\n",
       "<style scoped>\n",
       "    .dataframe tbody tr th:only-of-type {\n",
       "        vertical-align: middle;\n",
       "    }\n",
       "\n",
       "    .dataframe tbody tr th {\n",
       "        vertical-align: top;\n",
       "    }\n",
       "\n",
       "    .dataframe thead th {\n",
       "        text-align: right;\n",
       "    }\n",
       "</style>\n",
       "<table border=\"1\" class=\"dataframe\">\n",
       "  <thead>\n",
       "    <tr style=\"text-align: right;\">\n",
       "      <th></th>\n",
       "      <th>agency_name</th>\n",
       "      <th>complaint_type</th>\n",
       "      <th>location_type</th>\n",
       "      <th>incident_zip</th>\n",
       "      <th>city</th>\n",
       "      <th>borough</th>\n",
       "      <th>latitude</th>\n",
       "      <th>longitude</th>\n",
       "      <th>time_of_day</th>\n",
       "      <th>day_of_week</th>\n",
       "      <th>month</th>\n",
       "      <th>resolution_time_hours</th>\n",
       "      <th>resolved</th>\n",
       "    </tr>\n",
       "  </thead>\n",
       "  <tbody>\n",
       "  </tbody>\n",
       "</table>\n",
       "</div>"
      ],
      "text/plain": [
       "Empty DataFrame\n",
       "Columns: [agency_name, complaint_type, location_type, incident_zip, city, borough, latitude, longitude, time_of_day, day_of_week, month, resolution_time_hours, resolved]\n",
       "Index: []"
      ]
     },
     "execution_count": 24,
     "metadata": {},
     "output_type": "execute_result"
    }
   ],
   "source": [
    "# The easiest way to impute the city is to use the borough name\n",
    "# Checking that there are no rows where the city and borough are both null\n",
    "df[(df['city'].isna()) & (df['borough'].isna())]"
   ]
  },
  {
   "cell_type": "code",
   "execution_count": 25,
   "id": "cba9c654-9b4a-4f75-9f15-4ac6b0e9ff3f",
   "metadata": {},
   "outputs": [],
   "source": [
    "# Impute missing values with borough names\n",
    "df['city'] = df['city'].fillna(df['borough'].str.lower())"
   ]
  },
  {
   "cell_type": "code",
   "execution_count": 26,
   "id": "94daa0d2-145f-469a-9efd-c6391ff35b35",
   "metadata": {},
   "outputs": [
    {
     "data": {
      "text/plain": [
       "city\n",
       "brooklyn         0.3024\n",
       "bronx            0.2142\n",
       "new york         0.1895\n",
       "staten island    0.0351\n",
       "queens           0.0253\n",
       "jamaica          0.0233\n",
       "manhattan        0.0188\n",
       "astoria          0.0170\n",
       "flushing         0.0148\n",
       "ridgewood        0.0115\n",
       "Name: proportion, dtype: float64"
      ]
     },
     "execution_count": 26,
     "metadata": {},
     "output_type": "execute_result"
    }
   ],
   "source": [
    "# Very few of the cities are prevalent enough to be worth using\n",
    "# The most common \"cities\" are just borough names\n",
    "df['city'].value_counts(normalize = True)[df['city'].value_counts(normalize = True).gt(0.01)].round(4)"
   ]
  },
  {
   "cell_type": "code",
   "execution_count": 27,
   "id": "593a4402-8ac1-46de-a16c-80c8d5be6fe6",
   "metadata": {},
   "outputs": [
    {
     "data": {
      "text/plain": [
       "borough\n",
       "MANHATTAN      638359\n",
       "Unspecified        32\n",
       "Name: count, dtype: int64"
      ]
     },
     "execution_count": 27,
     "metadata": {},
     "output_type": "execute_result"
    }
   ],
   "source": [
    "# Even the \"new york\" designation is equivalent to Manhattan\n",
    "df[df['city'] == 'new york'].borough.value_counts()"
   ]
  },
  {
   "cell_type": "code",
   "execution_count": 28,
   "id": "e548b760-bfa8-4a07-bf2b-1691bb78c74a",
   "metadata": {},
   "outputs": [],
   "source": [
    "# Since the city is no longer useful, drop the city column\n",
    "df = df.drop(['city'], axis = 1)"
   ]
  },
  {
   "cell_type": "code",
   "execution_count": 29,
   "id": "cd74534b-49a7-4ce2-8b55-b38d4dc695ff",
   "metadata": {},
   "outputs": [
    {
     "data": {
      "text/plain": [
       "array(['MANHATTAN', 'STATEN ISLAND', 'BRONX', 'QUEENS', 'BROOKLYN',\n",
       "       'Unspecified'], dtype=object)"
      ]
     },
     "execution_count": 29,
     "metadata": {},
     "output_type": "execute_result"
    }
   ],
   "source": [
    "# Check the unique borough names, no null values and each value is relevant, just need to normalize\n",
    "df['borough'].unique()"
   ]
  },
  {
   "cell_type": "code",
   "execution_count": 30,
   "id": "3639fc27-aa83-4ce9-b42e-3c6abb97578e",
   "metadata": {},
   "outputs": [],
   "source": [
    "# Convert all values in borough to uppercase\n",
    "df['borough'] = df['borough'].str.upper()"
   ]
  },
  {
   "cell_type": "code",
   "execution_count": 31,
   "id": "df3116e9-9886-43c5-bae3-860e7dea094f",
   "metadata": {},
   "outputs": [
    {
     "data": {
      "text/plain": [
       "33781"
      ]
     },
     "execution_count": 31,
     "metadata": {},
     "output_type": "execute_result"
    }
   ],
   "source": [
    "# There are a number of missing zip codes\n",
    "df.incident_zip.isna().sum()"
   ]
  },
  {
   "cell_type": "code",
   "execution_count": 32,
   "id": "0ad0a3c3-0ec7-49fe-87ef-e089c094ede6",
   "metadata": {},
   "outputs": [
    {
     "data": {
      "text/plain": [
       "array(['10031', '10013', '10314', '10456', '10128', '11421', '10004',\n",
       "       '10472', '11208', '11364', '10025', '10457', '11236', '11435',\n",
       "       '11368', '11432', '11106', '10467', '11375', '10305', '11694',\n",
       "       '11223', '10016', '11207', '11373', '11224', '11230', '11204',\n",
       "       '11210', '11239', '10012', '11233', '11372', '11219', '11417',\n",
       "       '11232', '11220', '11385', '10466', '10462', '10454', '11237',\n",
       "       '11374', '10453', '10040', '11356', '10465', '10312', '11238',\n",
       "       '11221', '11691', '10033', '10022', '10038', '11419', '10452',\n",
       "       '10461', '11369', '10028', '10029', '11214', '11206', '10027',\n",
       "       '11226', '10302', '11215', '10034', nan, '10455', '10030', '10007',\n",
       "       '11235', '11358', '11201', '10009', '10001', '11420', '10039',\n",
       "       '11212', '11378', '11377', '10003', '10459', '11216', '11355',\n",
       "       '10019', '11222', '10463', '10024', '10002', '10304', '11211',\n",
       "       '11370', '11365', '10451', '10310', '11218', '11234', '11205',\n",
       "       '11362', '10306', '11360', '11203', '10468', '11693', '10032',\n",
       "       '10026', '11413', '10120', '10473', '11415', '11354', '11225',\n",
       "       '10075', '11228', '10458', '11357', '11209', '10303', '11229',\n",
       "       '11379', '11426', '11101', '11422', '11249', '10308', '11105',\n",
       "       '10023', '11103', '11436', '10471', '10309', '11367', '10021',\n",
       "       '11231', '11366', '11102', '11361', '10469', '10017', '11427',\n",
       "       '10035', '11414', '11412', '11217', '10460', '11213', '11104',\n",
       "       '11416', '10301', '10000', '11418', '10011', '11433', '10014',\n",
       "       '10307', '11423', '10037', '11428', '11434', '11429', '10036',\n",
       "       '10018', '10006', '11692', '10005', '10065', '11411', '11363',\n",
       "       '10010', '10121', '11430', '10475', '10470', '11004', '11109',\n",
       "       '10110', '10069', '10119', '10400', '10107', '10474', '10044',\n",
       "       '10169', '10464', '11359', '10020', '10176', '10281', '10280',\n",
       "       '10048', '10118', '10111', '10115', '10282', '10045', '11001',\n",
       "       '10153', '11242', '10162', '10278', '11697', '10103', '11040',\n",
       "       '10055', '10172', '12345', '10112', '00083', '10167', '10170',\n",
       "       '10174', '10154', '10152', '10105', '10168', '10151', '10173',\n",
       "       '10175', '10123', '10271', '10165', '10171', '10041', '10279',\n",
       "       '10178', '10158', '11371', '11251', '11241', '11695', '10106',\n",
       "       '10177', '10179', '10155', '11021', '10166', '10080', '0000',\n",
       "       '00000', '10122', '10803', '11005', '92879'], dtype=object)"
      ]
     },
     "execution_count": 32,
     "metadata": {},
     "output_type": "execute_result"
    }
   ],
   "source": [
    "# There are a lot of ZIP codes, let's check to make sure each are in NYC\n",
    "df['incident_zip'].unique()"
   ]
  },
  {
   "cell_type": "code",
   "execution_count": 33,
   "id": "1356c2f5-41f7-4147-bfa2-46e262c5cfbf",
   "metadata": {},
   "outputs": [],
   "source": [
    "# ZIP codes from Zillow: https://www.zillow.com/browse/homes/ny/new-york-county/\n",
    "nyc_zip = [\n",
    "    \"10001\", \"10002\", \"10003\", \"10004\", \"10005\", \"10006\", \"10007\", \"10008\", \"10009\",\n",
    "    \"10010\", \"10011\", \"10012\", \"10013\", \"10014\", \"10015\", \"10016\", \"10017\", \"10018\",\n",
    "    \"10019\", \"10020\", \"10021\", \"10022\", \"10023\", \"10024\", \"10025\", \"10026\", \"10027\",\n",
    "    \"10028\", \"10029\", \"10030\", \"10031\", \"10032\", \"10033\", \"10034\", \"10035\", \"10036\",\n",
    "    \"10037\", \"10038\", \"10039\", \"10040\", \"10041\", \"10043\", \"10044\", \"10045\", \"10046\",\n",
    "    \"10047\", \"10048\", \"10049\", \"10050\", \"10051\", \"10052\", \"10053\", \"10054\", \"10055\",\n",
    "    \"10056\", \"10057\", \"10058\", \"10059\", \"10060\", \"10061\", \"10062\", \"10063\", \"10064\",\n",
    "    \"10065\", \"10066\", \"10067\", \"10068\", \"10069\", \"10070\", \"10071\", \"10072\", \"10073\",\n",
    "    \"10074\", \"10075\", \"10076\", \"10077\", \"10078\", \"10079\", \"10080\", \"10081\", \"10082\",\n",
    "    \"10083\", \"10084\", \"10085\", \"10086\", \"10087\", \"10088\", \"10089\", \"10090\", \"10091\",\n",
    "    \"10092\", \"10093\", \"10094\", \"10095\", \"10096\", \"10097\", \"10098\", \"10099\", \"10101\",\n",
    "    \"10102\", \"10103\", \"10104\", \"10105\", \"10106\", \"10107\", \"10108\", \"10109\", \"10110\",\n",
    "    \"10111\", \"10112\", \"10113\", \"10114\", \"10115\", \"10116\", \"10117\", \"10118\", \"10119\",\n",
    "    \"10120\", \"10121\", \"10122\", \"10123\", \"10124\", \"10125\", \"10126\", \"10127\", \"10128\",\n",
    "    \"10129\", \"10130\", \"10131\", \"10132\", \"10133\", \"10134\", \"10135\", \"10136\", \"10137\",\n",
    "    \"10138\", \"10139\", \"10140\", \"10141\", \"10142\", \"10143\", \"10144\", \"10145\", \"10146\",\n",
    "    \"10147\", \"10148\", \"10149\", \"10150\", \"10151\", \"10152\", \"10153\", \"10154\", \"10155\",\n",
    "    \"10156\", \"10157\", \"10158\", \"10159\", \"10160\", \"10161\", \"10162\", \"10163\", \"10164\",\n",
    "    \"10165\", \"10166\", \"10167\", \"10168\", \"10169\", \"10170\", \"10171\", \"10172\", \"10173\",\n",
    "    \"10174\", \"10175\", \"10176\", \"10177\", \"10178\", \"10179\", \"10180\", \"10181\", \"10182\",\n",
    "    \"10183\", \"10184\", \"10185\", \"10186\", \"10187\", \"10188\", \"10189\", \"10190\", \"10191\",\n",
    "    \"10192\", \"10193\", \"10194\", \"10195\", \"10196\", \"10197\", \"10198\", \"10199\", \"10201\",\n",
    "    \"10202\", \"10203\", \"10204\", \"10205\", \"10206\", \"10207\", \"10208\", \"10209\", \"10210\",\n",
    "    \"10211\", \"10212\", \"10213\", \"10214\", \"10215\", \"10216\", \"10217\", \"10218\", \"10219\",\n",
    "    \"10220\", \"10221\", \"10222\", \"10223\", \"10224\", \"10225\", \"10226\", \"10227\", \"10228\",\n",
    "    \"10229\", \"10230\", \"10231\", \"10232\", \"10233\", \"10234\", \"10235\", \"10236\", \"10237\",\n",
    "    \"10238\", \"10239\", \"10240\", \"10241\", \"10242\", \"10243\", \"10244\", \"10245\", \"10246\",\n",
    "    \"10247\", \"10248\", \"10249\", \"10250\", \"10251\", \"10252\", \"10253\", \"10254\", \"10255\",\n",
    "    \"10256\", \"10257\", \"10258\", \"10259\", \"10260\", \"10261\", \"10262\", \"10263\", \"10264\",\n",
    "    \"10265\", \"10266\", \"10267\", \"10268\", \"10269\", \"10270\", \"10271\", \"10272\", \"10273\",\n",
    "    \"10274\", \"10275\", \"10276\", \"10277\", \"10278\", \"10279\", \"10280\", \"10281\", \"10282\",\n",
    "    \"10283\", \"10284\", \"10285\", \"10286\"\n",
    "]\n",
    "\n",
    "# Convert values in the column to None if not in the nyc_zip list\n",
    "df['incident_zip'] = df['incident_zip'].apply(lambda x: x if x in nyc_zip else None)"
   ]
  },
  {
   "cell_type": "code",
   "execution_count": 34,
   "id": "24d9b6ec-9e7d-46a9-9c5e-2ce607cfae22",
   "metadata": {},
   "outputs": [],
   "source": [
    "# Want to impute missing ZIP codes using latitude and longitude\n",
    "# Using GeoPandas and ZCTA shapefile from US Census: https://www2.census.gov/geo/tiger/TIGER2023/ZCTA520/\n",
    "# Create Point geometry column\n",
    "df['geometry'] = df.apply(lambda row: Point(row['longitude'], row['latitude']), axis = 1)\n",
    "gdf_points = gpd.GeoDataFrame(df, geometry = 'geometry', crs = 'EPSG:4326')\n",
    "\n",
    "# Load the ZCTA shapefile\n",
    "zcta = gpd.read_file('../data/raw/tl_2023_us_zcta520.shp')\n",
    "zcta = zcta.to_crs('EPSG:4326')  # Ensure same coordinate system\n",
    "\n",
    "# Spatial join: assign ZIP code to each point\n",
    "gdf_joined = gpd.sjoin(gdf_points, zcta[['ZCTA5CE20', 'geometry']], how = 'left', predicate = 'within')\n",
    "\n",
    "# Fill missing ZIP codes only\n",
    "df['incident_zip'] = df['incident_zip'].fillna(gdf_joined['ZCTA5CE20'])"
   ]
  },
  {
   "cell_type": "code",
   "execution_count": 35,
   "id": "d209945e-1115-4c86-b4fa-e23ae1d6c6cc",
   "metadata": {},
   "outputs": [],
   "source": [
    "# For the remaining missing ZIP codes, impute using the mode from each borough (as borough is non-missing)\n",
    "# Compute mode ZIP for each borough\n",
    "mode_zip = df.dropna(subset = ['incident_zip']).groupby('borough')['incident_zip'].agg(\n",
    "    lambda x: x.mode().iloc[0] if not x.mode().empty else None\n",
    ")\n",
    "\n",
    "# Create a mask for missing ZIPs\n",
    "missing_mask = df['incident_zip'].isna()\n",
    "\n",
    "# Fill missing ZIPs based on borough\n",
    "df.loc[missing_mask, 'incident_zip'] = df.loc[missing_mask, 'borough'].map(mode_zip)"
   ]
  },
  {
   "cell_type": "code",
   "execution_count": 36,
   "id": "0c85cdd5-a541-409f-bbc7-1006448c9762",
   "metadata": {},
   "outputs": [],
   "source": [
    "# Impute missing latitude and longitude values using the modes from the now non-missing ZIP column\n",
    "# Calculate mode latitue/longitude per ZIP\n",
    "lat_mode = df.dropna(subset = ['latitude']).groupby('incident_zip')['latitude'].agg(\n",
    "    lambda x: x.mode().iloc[0] if not x.mode().empty else None\n",
    ")\n",
    "lon_mode = df.dropna(subset = ['longitude']).groupby('incident_zip')['longitude'].agg(\n",
    "    lambda x: x.mode().iloc[0] if not x.mode().empty else None\n",
    ")\n",
    "\n",
    "# Create masks for missing latitude/longitude\n",
    "lat_missing = df['latitude'].isna()\n",
    "lon_missing = df['longitude'].isna()\n",
    "\n",
    "# Fill missing values using the ZIP mode mappings\n",
    "df.loc[lat_missing, 'latitude'] = df.loc[lat_missing, 'incident_zip'].map(lat_mode)\n",
    "df.loc[lon_missing, 'longitude'] = df.loc[lon_missing, 'incident_zip'].map(lon_mode)"
   ]
  },
  {
   "cell_type": "markdown",
   "id": "d1bac582-be0c-4755-a521-5423e64dd1d4",
   "metadata": {},
   "source": [
    "### Final Checks and Save in Preparation for EDA"
   ]
  },
  {
   "cell_type": "code",
   "execution_count": 38,
   "id": "abd67225-9aac-4d10-99ae-ea538ca3cc70",
   "metadata": {},
   "outputs": [
    {
     "data": {
      "text/plain": [
       "agency_name              0\n",
       "complaint_type           0\n",
       "location_type            0\n",
       "incident_zip             0\n",
       "borough                  0\n",
       "latitude                 0\n",
       "longitude                0\n",
       "time_of_day              0\n",
       "day_of_week              0\n",
       "month                    0\n",
       "resolution_time_hours    0\n",
       "resolved                 0\n",
       "geometry                 0\n",
       "dtype: int64"
      ]
     },
     "execution_count": 38,
     "metadata": {},
     "output_type": "execute_result"
    }
   ],
   "source": [
    "# Check for missing values - should be none left\n",
    "df.isnull().sum()"
   ]
  },
  {
   "cell_type": "code",
   "execution_count": 40,
   "id": "15a50762-3dd5-4e1f-8517-fae28683a21c",
   "metadata": {},
   "outputs": [
    {
     "name": "stdout",
     "output_type": "stream",
     "text": [
      "<class 'pandas.core.frame.DataFrame'>\n",
      "Index: 3368621 entries, 64 to 3458310\n",
      "Data columns (total 13 columns):\n",
      " #   Column                 Dtype   \n",
      "---  ------                 -----   \n",
      " 0   agency_name            object  \n",
      " 1   complaint_type         object  \n",
      " 2   location_type          object  \n",
      " 3   incident_zip           object  \n",
      " 4   borough                object  \n",
      " 5   latitude               float64 \n",
      " 6   longitude              float64 \n",
      " 7   time_of_day            category\n",
      " 8   day_of_week            object  \n",
      " 9   month                  object  \n",
      " 10  resolution_time_hours  int64   \n",
      " 11  resolved               bool    \n",
      " 12  geometry               object  \n",
      "dtypes: bool(1), category(1), float64(2), int64(1), object(8)\n",
      "memory usage: 314.8+ MB\n"
     ]
    }
   ],
   "source": [
    "# Check data types, they seem appropriate\n",
    "df.info()"
   ]
  },
  {
   "cell_type": "code",
   "execution_count": 41,
   "id": "0934f2a2-cb18-45a5-a2ed-f1772ab4fca7",
   "metadata": {},
   "outputs": [],
   "source": [
    "# Save dataframe for further use in EDA without having to reclean the data\n",
    "df.to_csv('../data/cleaned/311_Data_Cleaned_EDA.csv.bz2',\n",
    "          compression = {'method': 'bz2', 'compresslevel': 9}, index = False)"
   ]
  },
  {
   "cell_type": "markdown",
   "id": "c18535a4-b0a5-44c5-96d8-6d6c48bb86ef",
   "metadata": {},
   "source": [
    "## EDA"
   ]
  },
  {
   "cell_type": "code",
   "execution_count": null,
   "id": "eea568a1-bbf7-471a-8198-55afad1951a4",
   "metadata": {},
   "outputs": [],
   "source": []
  }
 ],
 "metadata": {
  "kernelspec": {
   "display_name": "Python 3 (ipykernel)",
   "language": "python",
   "name": "python3"
  },
  "language_info": {
   "codemirror_mode": {
    "name": "ipython",
    "version": 3
   },
   "file_extension": ".py",
   "mimetype": "text/x-python",
   "name": "python",
   "nbconvert_exporter": "python",
   "pygments_lexer": "ipython3",
   "version": "3.12.3"
  }
 },
 "nbformat": 4,
 "nbformat_minor": 5
}
